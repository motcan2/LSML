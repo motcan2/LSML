{
 "cells": [
  {
   "cell_type": "code",
   "execution_count": 1,
   "id": "a93bce3c",
   "metadata": {},
   "outputs": [],
   "source": [
    "# Import the PySpark libraries\n",
    "from pyspark import SparkContext, SparkConf\n",
    "from pyspark.sql import SparkSession, SQLContext\n",
    "import os \n",
    "import pyspark\n",
    "\n",
    "os.environ[\"JAVA_HOME\"] = \"1.8.0\"\n",
    "os.environ['PYSPARK_SUBMIT_ARGS']=\"pyspark-shell\"\n",
    "# Create a SparkSession\n",
    "spark = SparkSession.builder.appName(\"MyApp\").getOrCreate()\n",
    "\n",
    "# Create a SQLContext\n",
    "sqlContext = SQLContext(spark)\n",
    "\n",
    "spark = SparkSession.builder.appName(\"Python Spark SQL basic example\").config(\"spark.some.config.option\", \"some-value\").getOrCreate()\n",
    "data = spark.read.format(\"csv\").option(\"header\",\"true\").option(\"inferSchema\",\"true\").load(\"clickstream1.csv\")\n",
    "data.createOrReplaceTempView(\"Data\")\n",
    "results1 = spark.sql(\n",
    "  \"\"\"with t1 as (SELECT \n",
    "     user_id,\n",
    "     session_id,\n",
    "     event_type, \n",
    "     event_page,\n",
    "     row_number() over (partition by user_id, session_id, event_page order by timestamp) as rank, \n",
    "     row_number() over (order by timestamp) as number,\n",
    "     timestamp\n",
    "     FROM data\n",
    "     --where user_id = 412\n",
    "     order by timestamp), t2 as (\n",
    "     select \n",
    "     user_id, \n",
    "     session_id, \n",
    "     array_agg(event_page) as array\n",
    "     from t1 \n",
    "     where rank = 1\n",
    "     group by user_id, session_id\n",
    "     order by user_id, session_id)\n",
    "     \n",
    "     select \n",
    "     array, \n",
    "     count(array) as count\n",
    "     from t2\n",
    "     group by array\n",
    "     order by count desc\n",
    "     limit 30\n",
    "\"\"\")\n",
    "results1.show(truncate=False)"
   ]
  }
 ],
 "metadata": {
  "kernelspec": {
   "display_name": "Python 3 (ipykernel)",
   "language": "python",
   "name": "python3"
  },
  "language_info": {
   "codemirror_mode": {
    "name": "ipython",
    "version": 3
   },
   "file_extension": ".py",
   "mimetype": "text/x-python",
   "name": "python",
   "nbconvert_exporter": "python",
   "pygments_lexer": "ipython3",
   "version": "3.11.5"
  },
  "toc": {
   "base_numbering": 1,
   "nav_menu": {},
   "number_sections": true,
   "sideBar": true,
   "skip_h1_title": false,
   "title_cell": "Table of Contents",
   "title_sidebar": "Contents",
   "toc_cell": false,
   "toc_position": {},
   "toc_section_display": true,
   "toc_window_display": false
  },
  "varInspector": {
   "cols": {
    "lenName": 16,
    "lenType": 16,
    "lenVar": 40
   },
   "kernels_config": {
    "python": {
     "delete_cmd_postfix": "",
     "delete_cmd_prefix": "del ",
     "library": "var_list.py",
     "varRefreshCmd": "print(var_dic_list())"
    },
    "r": {
     "delete_cmd_postfix": ") ",
     "delete_cmd_prefix": "rm(",
     "library": "var_list.r",
     "varRefreshCmd": "cat(var_dic_list()) "
    }
   },
   "types_to_exclude": [
    "module",
    "function",
    "builtin_function_or_method",
    "instance",
    "_Feature"
   ],
   "window_display": false
  }
 },
 "nbformat": 4,
 "nbformat_minor": 5
}
